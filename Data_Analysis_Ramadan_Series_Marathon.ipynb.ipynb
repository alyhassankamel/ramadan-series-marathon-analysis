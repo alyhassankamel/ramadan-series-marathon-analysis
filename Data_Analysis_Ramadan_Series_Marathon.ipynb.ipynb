{
  "nbformat": 4,
  "nbformat_minor": 0,
  "metadata": {
    "colab": {
      "provenance": [],
      "collapsed_sections": [
        "8T9UkuomCwup",
        "CKaj1a97C-ql",
        "cwInFDqTDYMc"
      ]
    },
    "kernelspec": {
      "name": "python3",
      "display_name": "Python 3"
    },
    "language_info": {
      "name": "python"
    }
  },
  "cells": [
    {
      "cell_type": "markdown",
      "source": [
        "### **Libraries**"
      ],
      "metadata": {
        "id": "8T9UkuomCwup"
      }
    },
    {
      "cell_type": "code",
      "execution_count": null,
      "metadata": {
        "id": "jxgh39ldCrvt"
      },
      "outputs": [],
      "source": [
        "import numpy as np\n",
        "import pandas as pd\n",
        "import matplotlib.pyplot as plt\n",
        "import seaborn as sns\n",
        "from scipy import stats"
      ]
    },
    {
      "cell_type": "markdown",
      "source": [
        "## **Loading Data**"
      ],
      "metadata": {
        "id": "CKaj1a97C-ql"
      }
    },
    {
      "cell_type": "code",
      "source": [
        "from google.colab import files\n",
        "uploaded = files.upload()"
      ],
      "metadata": {
        "colab": {
          "base_uri": "https://localhost:8080/",
          "height": 73
        },
        "id": "Dyp6XqVqDCI8",
        "outputId": "79142978-1547-4eec-f53f-72dea9f3f698"
      },
      "execution_count": null,
      "outputs": [
        {
          "output_type": "display_data",
          "data": {
            "text/plain": [
              "<IPython.core.display.HTML object>"
            ],
            "text/html": [
              "\n",
              "     <input type=\"file\" id=\"files-3574c696-c0d8-442c-b4bb-53932f016adc\" name=\"files[]\" multiple disabled\n",
              "        style=\"border:none\" />\n",
              "     <output id=\"result-3574c696-c0d8-442c-b4bb-53932f016adc\">\n",
              "      Upload widget is only available when the cell has been executed in the\n",
              "      current browser session. Please rerun this cell to enable.\n",
              "      </output>\n",
              "      <script>// Copyright 2017 Google LLC\n",
              "//\n",
              "// Licensed under the Apache License, Version 2.0 (the \"License\");\n",
              "// you may not use this file except in compliance with the License.\n",
              "// You may obtain a copy of the License at\n",
              "//\n",
              "//      http://www.apache.org/licenses/LICENSE-2.0\n",
              "//\n",
              "// Unless required by applicable law or agreed to in writing, software\n",
              "// distributed under the License is distributed on an \"AS IS\" BASIS,\n",
              "// WITHOUT WARRANTIES OR CONDITIONS OF ANY KIND, either express or implied.\n",
              "// See the License for the specific language governing permissions and\n",
              "// limitations under the License.\n",
              "\n",
              "/**\n",
              " * @fileoverview Helpers for google.colab Python module.\n",
              " */\n",
              "(function(scope) {\n",
              "function span(text, styleAttributes = {}) {\n",
              "  const element = document.createElement('span');\n",
              "  element.textContent = text;\n",
              "  for (const key of Object.keys(styleAttributes)) {\n",
              "    element.style[key] = styleAttributes[key];\n",
              "  }\n",
              "  return element;\n",
              "}\n",
              "\n",
              "// Max number of bytes which will be uploaded at a time.\n",
              "const MAX_PAYLOAD_SIZE = 100 * 1024;\n",
              "\n",
              "function _uploadFiles(inputId, outputId) {\n",
              "  const steps = uploadFilesStep(inputId, outputId);\n",
              "  const outputElement = document.getElementById(outputId);\n",
              "  // Cache steps on the outputElement to make it available for the next call\n",
              "  // to uploadFilesContinue from Python.\n",
              "  outputElement.steps = steps;\n",
              "\n",
              "  return _uploadFilesContinue(outputId);\n",
              "}\n",
              "\n",
              "// This is roughly an async generator (not supported in the browser yet),\n",
              "// where there are multiple asynchronous steps and the Python side is going\n",
              "// to poll for completion of each step.\n",
              "// This uses a Promise to block the python side on completion of each step,\n",
              "// then passes the result of the previous step as the input to the next step.\n",
              "function _uploadFilesContinue(outputId) {\n",
              "  const outputElement = document.getElementById(outputId);\n",
              "  const steps = outputElement.steps;\n",
              "\n",
              "  const next = steps.next(outputElement.lastPromiseValue);\n",
              "  return Promise.resolve(next.value.promise).then((value) => {\n",
              "    // Cache the last promise value to make it available to the next\n",
              "    // step of the generator.\n",
              "    outputElement.lastPromiseValue = value;\n",
              "    return next.value.response;\n",
              "  });\n",
              "}\n",
              "\n",
              "/**\n",
              " * Generator function which is called between each async step of the upload\n",
              " * process.\n",
              " * @param {string} inputId Element ID of the input file picker element.\n",
              " * @param {string} outputId Element ID of the output display.\n",
              " * @return {!Iterable<!Object>} Iterable of next steps.\n",
              " */\n",
              "function* uploadFilesStep(inputId, outputId) {\n",
              "  const inputElement = document.getElementById(inputId);\n",
              "  inputElement.disabled = false;\n",
              "\n",
              "  const outputElement = document.getElementById(outputId);\n",
              "  outputElement.innerHTML = '';\n",
              "\n",
              "  const pickedPromise = new Promise((resolve) => {\n",
              "    inputElement.addEventListener('change', (e) => {\n",
              "      resolve(e.target.files);\n",
              "    });\n",
              "  });\n",
              "\n",
              "  const cancel = document.createElement('button');\n",
              "  inputElement.parentElement.appendChild(cancel);\n",
              "  cancel.textContent = 'Cancel upload';\n",
              "  const cancelPromise = new Promise((resolve) => {\n",
              "    cancel.onclick = () => {\n",
              "      resolve(null);\n",
              "    };\n",
              "  });\n",
              "\n",
              "  // Wait for the user to pick the files.\n",
              "  const files = yield {\n",
              "    promise: Promise.race([pickedPromise, cancelPromise]),\n",
              "    response: {\n",
              "      action: 'starting',\n",
              "    }\n",
              "  };\n",
              "\n",
              "  cancel.remove();\n",
              "\n",
              "  // Disable the input element since further picks are not allowed.\n",
              "  inputElement.disabled = true;\n",
              "\n",
              "  if (!files) {\n",
              "    return {\n",
              "      response: {\n",
              "        action: 'complete',\n",
              "      }\n",
              "    };\n",
              "  }\n",
              "\n",
              "  for (const file of files) {\n",
              "    const li = document.createElement('li');\n",
              "    li.append(span(file.name, {fontWeight: 'bold'}));\n",
              "    li.append(span(\n",
              "        `(${file.type || 'n/a'}) - ${file.size} bytes, ` +\n",
              "        `last modified: ${\n",
              "            file.lastModifiedDate ? file.lastModifiedDate.toLocaleDateString() :\n",
              "                                    'n/a'} - `));\n",
              "    const percent = span('0% done');\n",
              "    li.appendChild(percent);\n",
              "\n",
              "    outputElement.appendChild(li);\n",
              "\n",
              "    const fileDataPromise = new Promise((resolve) => {\n",
              "      const reader = new FileReader();\n",
              "      reader.onload = (e) => {\n",
              "        resolve(e.target.result);\n",
              "      };\n",
              "      reader.readAsArrayBuffer(file);\n",
              "    });\n",
              "    // Wait for the data to be ready.\n",
              "    let fileData = yield {\n",
              "      promise: fileDataPromise,\n",
              "      response: {\n",
              "        action: 'continue',\n",
              "      }\n",
              "    };\n",
              "\n",
              "    // Use a chunked sending to avoid message size limits. See b/62115660.\n",
              "    let position = 0;\n",
              "    do {\n",
              "      const length = Math.min(fileData.byteLength - position, MAX_PAYLOAD_SIZE);\n",
              "      const chunk = new Uint8Array(fileData, position, length);\n",
              "      position += length;\n",
              "\n",
              "      const base64 = btoa(String.fromCharCode.apply(null, chunk));\n",
              "      yield {\n",
              "        response: {\n",
              "          action: 'append',\n",
              "          file: file.name,\n",
              "          data: base64,\n",
              "        },\n",
              "      };\n",
              "\n",
              "      let percentDone = fileData.byteLength === 0 ?\n",
              "          100 :\n",
              "          Math.round((position / fileData.byteLength) * 100);\n",
              "      percent.textContent = `${percentDone}% done`;\n",
              "\n",
              "    } while (position < fileData.byteLength);\n",
              "  }\n",
              "\n",
              "  // All done.\n",
              "  yield {\n",
              "    response: {\n",
              "      action: 'complete',\n",
              "    }\n",
              "  };\n",
              "}\n",
              "\n",
              "scope.google = scope.google || {};\n",
              "scope.google.colab = scope.google.colab || {};\n",
              "scope.google.colab._files = {\n",
              "  _uploadFiles,\n",
              "  _uploadFilesContinue,\n",
              "};\n",
              "})(self);\n",
              "</script> "
            ]
          },
          "metadata": {}
        },
        {
          "output_type": "stream",
          "name": "stdout",
          "text": [
            "Saving Ramadan Series Marathon_ What’s on Your Watchlist_.csv to Ramadan Series Marathon_ What’s on Your Watchlist_ (11).csv\n"
          ]
        }
      ]
    },
    {
      "cell_type": "code",
      "source": [
        "df = pd.read_csv('Ramadan Series Marathon_ What’s on Your Watchlist_.csv')\n",
        "df.head()"
      ],
      "metadata": {
        "colab": {
          "base_uri": "https://localhost:8080/",
          "height": 449
        },
        "id": "ZVVSrrnmDRA0",
        "outputId": "37ca1afd-b867-4af9-9085-b4d10739b497"
      },
      "execution_count": null,
      "outputs": [
        {
          "output_type": "execute_result",
          "data": {
            "text/plain": [
              "                      Timestamp What is your age group?    \\\n",
              "0  2025/03/06 10:43:43 PM GMT+2                     18–24   \n",
              "1  2025/03/06 10:43:47 PM GMT+2                     18–24   \n",
              "2  2025/03/06 10:47:52 PM GMT+2                     18–24   \n",
              "3  2025/03/06 10:48:14 PM GMT+2                     18–24   \n",
              "4  2025/03/06 10:48:56 PM GMT+2                     18–24   \n",
              "\n",
              "  What is your gender?  \\\n",
              "0                 Male   \n",
              "1               Female   \n",
              "2                 Male   \n",
              "3                 Male   \n",
              "4                 Male   \n",
              "\n",
              "  How many Ramadan series do you typically watch during the month?\\n  \\\n",
              "0                                                  2                   \n",
              "1                                                  2                   \n",
              "2                                                  3                   \n",
              "3                                                  3                   \n",
              "4                                                  2                   \n",
              "\n",
              "  On average, how many episodes of Ramadan series do you watch per day?\\n  \\\n",
              "0                                                  1                        \n",
              "1                                                  1                        \n",
              "2                                                2–3                        \n",
              "3                                                2–3                        \n",
              "4                                                2–3                        \n",
              "\n",
              "  What time of day do you usually watch Ramadan series?  \\\n",
              "0                                         Late night      \n",
              "1                                          Afternoon      \n",
              "2                                          Afternoon      \n",
              "3                                         Late night      \n",
              "4                                         Late night      \n",
              "\n",
              "  Which Ramadan series have you watched this year?  \\\n",
              "0                      اشغال شقه جدا;كامل العدد ++   \n",
              "1                         ولاد الشمس;كامل العدد ++   \n",
              "2                      اشغال شقه جدا;كامل العدد ++   \n",
              "3                    اشغال شقه جدا;النص;ولاد الشمس   \n",
              "4                                ولاد الشمس;المداح   \n",
              "\n",
              "  On which platforms do you watch Ramadan series? (Select all that apply)  \\\n",
              "0                                     Shahid;WatchIt                        \n",
              "1                                     Shahid;WatchIt                        \n",
              "2                                         Other apps                        \n",
              "3                                         Yango Play                        \n",
              "4                                            Live TV                        \n",
              "\n",
              "  Do you discuss Ramadan series with others (e.g., family, friends, or on social media)?  \n",
              "0                                          Sometimes                                      \n",
              "1                                         Yes, often                                      \n",
              "2                                         Yes, often                                      \n",
              "3                                          Sometimes                                      \n",
              "4                                          Sometimes                                      "
            ],
            "text/html": [
              "\n",
              "  <div id=\"df-2638fea4-26ca-4cf1-ba5f-27af00f9e297\" class=\"colab-df-container\">\n",
              "    <div>\n",
              "<style scoped>\n",
              "    .dataframe tbody tr th:only-of-type {\n",
              "        vertical-align: middle;\n",
              "    }\n",
              "\n",
              "    .dataframe tbody tr th {\n",
              "        vertical-align: top;\n",
              "    }\n",
              "\n",
              "    .dataframe thead th {\n",
              "        text-align: right;\n",
              "    }\n",
              "</style>\n",
              "<table border=\"1\" class=\"dataframe\">\n",
              "  <thead>\n",
              "    <tr style=\"text-align: right;\">\n",
              "      <th></th>\n",
              "      <th>Timestamp</th>\n",
              "      <th>What is your age group?</th>\n",
              "      <th>What is your gender?</th>\n",
              "      <th>How many Ramadan series do you typically watch during the month?\\n</th>\n",
              "      <th>On average, how many episodes of Ramadan series do you watch per day?\\n</th>\n",
              "      <th>What time of day do you usually watch Ramadan series?</th>\n",
              "      <th>Which Ramadan series have you watched this year?</th>\n",
              "      <th>On which platforms do you watch Ramadan series? (Select all that apply)</th>\n",
              "      <th>Do you discuss Ramadan series with others (e.g., family, friends, or on social media)?</th>\n",
              "    </tr>\n",
              "  </thead>\n",
              "  <tbody>\n",
              "    <tr>\n",
              "      <th>0</th>\n",
              "      <td>2025/03/06 10:43:43 PM GMT+2</td>\n",
              "      <td>18–24</td>\n",
              "      <td>Male</td>\n",
              "      <td>2</td>\n",
              "      <td>1</td>\n",
              "      <td>Late night</td>\n",
              "      <td>اشغال شقه جدا;كامل العدد ++</td>\n",
              "      <td>Shahid;WatchIt</td>\n",
              "      <td>Sometimes</td>\n",
              "    </tr>\n",
              "    <tr>\n",
              "      <th>1</th>\n",
              "      <td>2025/03/06 10:43:47 PM GMT+2</td>\n",
              "      <td>18–24</td>\n",
              "      <td>Female</td>\n",
              "      <td>2</td>\n",
              "      <td>1</td>\n",
              "      <td>Afternoon</td>\n",
              "      <td>ولاد الشمس;كامل العدد ++</td>\n",
              "      <td>Shahid;WatchIt</td>\n",
              "      <td>Yes, often</td>\n",
              "    </tr>\n",
              "    <tr>\n",
              "      <th>2</th>\n",
              "      <td>2025/03/06 10:47:52 PM GMT+2</td>\n",
              "      <td>18–24</td>\n",
              "      <td>Male</td>\n",
              "      <td>3</td>\n",
              "      <td>2–3</td>\n",
              "      <td>Afternoon</td>\n",
              "      <td>اشغال شقه جدا;كامل العدد ++</td>\n",
              "      <td>Other apps</td>\n",
              "      <td>Yes, often</td>\n",
              "    </tr>\n",
              "    <tr>\n",
              "      <th>3</th>\n",
              "      <td>2025/03/06 10:48:14 PM GMT+2</td>\n",
              "      <td>18–24</td>\n",
              "      <td>Male</td>\n",
              "      <td>3</td>\n",
              "      <td>2–3</td>\n",
              "      <td>Late night</td>\n",
              "      <td>اشغال شقه جدا;النص;ولاد الشمس</td>\n",
              "      <td>Yango Play</td>\n",
              "      <td>Sometimes</td>\n",
              "    </tr>\n",
              "    <tr>\n",
              "      <th>4</th>\n",
              "      <td>2025/03/06 10:48:56 PM GMT+2</td>\n",
              "      <td>18–24</td>\n",
              "      <td>Male</td>\n",
              "      <td>2</td>\n",
              "      <td>2–3</td>\n",
              "      <td>Late night</td>\n",
              "      <td>ولاد الشمس;المداح</td>\n",
              "      <td>Live TV</td>\n",
              "      <td>Sometimes</td>\n",
              "    </tr>\n",
              "  </tbody>\n",
              "</table>\n",
              "</div>\n",
              "    <div class=\"colab-df-buttons\">\n",
              "\n",
              "  <div class=\"colab-df-container\">\n",
              "    <button class=\"colab-df-convert\" onclick=\"convertToInteractive('df-2638fea4-26ca-4cf1-ba5f-27af00f9e297')\"\n",
              "            title=\"Convert this dataframe to an interactive table.\"\n",
              "            style=\"display:none;\">\n",
              "\n",
              "  <svg xmlns=\"http://www.w3.org/2000/svg\" height=\"24px\" viewBox=\"0 -960 960 960\">\n",
              "    <path d=\"M120-120v-720h720v720H120Zm60-500h600v-160H180v160Zm220 220h160v-160H400v160Zm0 220h160v-160H400v160ZM180-400h160v-160H180v160Zm440 0h160v-160H620v160ZM180-180h160v-160H180v160Zm440 0h160v-160H620v160Z\"/>\n",
              "  </svg>\n",
              "    </button>\n",
              "\n",
              "  <style>\n",
              "    .colab-df-container {\n",
              "      display:flex;\n",
              "      gap: 12px;\n",
              "    }\n",
              "\n",
              "    .colab-df-convert {\n",
              "      background-color: #E8F0FE;\n",
              "      border: none;\n",
              "      border-radius: 50%;\n",
              "      cursor: pointer;\n",
              "      display: none;\n",
              "      fill: #1967D2;\n",
              "      height: 32px;\n",
              "      padding: 0 0 0 0;\n",
              "      width: 32px;\n",
              "    }\n",
              "\n",
              "    .colab-df-convert:hover {\n",
              "      background-color: #E2EBFA;\n",
              "      box-shadow: 0px 1px 2px rgba(60, 64, 67, 0.3), 0px 1px 3px 1px rgba(60, 64, 67, 0.15);\n",
              "      fill: #174EA6;\n",
              "    }\n",
              "\n",
              "    .colab-df-buttons div {\n",
              "      margin-bottom: 4px;\n",
              "    }\n",
              "\n",
              "    [theme=dark] .colab-df-convert {\n",
              "      background-color: #3B4455;\n",
              "      fill: #D2E3FC;\n",
              "    }\n",
              "\n",
              "    [theme=dark] .colab-df-convert:hover {\n",
              "      background-color: #434B5C;\n",
              "      box-shadow: 0px 1px 3px 1px rgba(0, 0, 0, 0.15);\n",
              "      filter: drop-shadow(0px 1px 2px rgba(0, 0, 0, 0.3));\n",
              "      fill: #FFFFFF;\n",
              "    }\n",
              "  </style>\n",
              "\n",
              "    <script>\n",
              "      const buttonEl =\n",
              "        document.querySelector('#df-2638fea4-26ca-4cf1-ba5f-27af00f9e297 button.colab-df-convert');\n",
              "      buttonEl.style.display =\n",
              "        google.colab.kernel.accessAllowed ? 'block' : 'none';\n",
              "\n",
              "      async function convertToInteractive(key) {\n",
              "        const element = document.querySelector('#df-2638fea4-26ca-4cf1-ba5f-27af00f9e297');\n",
              "        const dataTable =\n",
              "          await google.colab.kernel.invokeFunction('convertToInteractive',\n",
              "                                                    [key], {});\n",
              "        if (!dataTable) return;\n",
              "\n",
              "        const docLinkHtml = 'Like what you see? Visit the ' +\n",
              "          '<a target=\"_blank\" href=https://colab.research.google.com/notebooks/data_table.ipynb>data table notebook</a>'\n",
              "          + ' to learn more about interactive tables.';\n",
              "        element.innerHTML = '';\n",
              "        dataTable['output_type'] = 'display_data';\n",
              "        await google.colab.output.renderOutput(dataTable, element);\n",
              "        const docLink = document.createElement('div');\n",
              "        docLink.innerHTML = docLinkHtml;\n",
              "        element.appendChild(docLink);\n",
              "      }\n",
              "    </script>\n",
              "  </div>\n",
              "\n",
              "\n",
              "<div id=\"df-51794e6a-b7b3-4856-803b-8baeadf29907\">\n",
              "  <button class=\"colab-df-quickchart\" onclick=\"quickchart('df-51794e6a-b7b3-4856-803b-8baeadf29907')\"\n",
              "            title=\"Suggest charts\"\n",
              "            style=\"display:none;\">\n",
              "\n",
              "<svg xmlns=\"http://www.w3.org/2000/svg\" height=\"24px\"viewBox=\"0 0 24 24\"\n",
              "     width=\"24px\">\n",
              "    <g>\n",
              "        <path d=\"M19 3H5c-1.1 0-2 .9-2 2v14c0 1.1.9 2 2 2h14c1.1 0 2-.9 2-2V5c0-1.1-.9-2-2-2zM9 17H7v-7h2v7zm4 0h-2V7h2v10zm4 0h-2v-4h2v4z\"/>\n",
              "    </g>\n",
              "</svg>\n",
              "  </button>\n",
              "\n",
              "<style>\n",
              "  .colab-df-quickchart {\n",
              "      --bg-color: #E8F0FE;\n",
              "      --fill-color: #1967D2;\n",
              "      --hover-bg-color: #E2EBFA;\n",
              "      --hover-fill-color: #174EA6;\n",
              "      --disabled-fill-color: #AAA;\n",
              "      --disabled-bg-color: #DDD;\n",
              "  }\n",
              "\n",
              "  [theme=dark] .colab-df-quickchart {\n",
              "      --bg-color: #3B4455;\n",
              "      --fill-color: #D2E3FC;\n",
              "      --hover-bg-color: #434B5C;\n",
              "      --hover-fill-color: #FFFFFF;\n",
              "      --disabled-bg-color: #3B4455;\n",
              "      --disabled-fill-color: #666;\n",
              "  }\n",
              "\n",
              "  .colab-df-quickchart {\n",
              "    background-color: var(--bg-color);\n",
              "    border: none;\n",
              "    border-radius: 50%;\n",
              "    cursor: pointer;\n",
              "    display: none;\n",
              "    fill: var(--fill-color);\n",
              "    height: 32px;\n",
              "    padding: 0;\n",
              "    width: 32px;\n",
              "  }\n",
              "\n",
              "  .colab-df-quickchart:hover {\n",
              "    background-color: var(--hover-bg-color);\n",
              "    box-shadow: 0 1px 2px rgba(60, 64, 67, 0.3), 0 1px 3px 1px rgba(60, 64, 67, 0.15);\n",
              "    fill: var(--button-hover-fill-color);\n",
              "  }\n",
              "\n",
              "  .colab-df-quickchart-complete:disabled,\n",
              "  .colab-df-quickchart-complete:disabled:hover {\n",
              "    background-color: var(--disabled-bg-color);\n",
              "    fill: var(--disabled-fill-color);\n",
              "    box-shadow: none;\n",
              "  }\n",
              "\n",
              "  .colab-df-spinner {\n",
              "    border: 2px solid var(--fill-color);\n",
              "    border-color: transparent;\n",
              "    border-bottom-color: var(--fill-color);\n",
              "    animation:\n",
              "      spin 1s steps(1) infinite;\n",
              "  }\n",
              "\n",
              "  @keyframes spin {\n",
              "    0% {\n",
              "      border-color: transparent;\n",
              "      border-bottom-color: var(--fill-color);\n",
              "      border-left-color: var(--fill-color);\n",
              "    }\n",
              "    20% {\n",
              "      border-color: transparent;\n",
              "      border-left-color: var(--fill-color);\n",
              "      border-top-color: var(--fill-color);\n",
              "    }\n",
              "    30% {\n",
              "      border-color: transparent;\n",
              "      border-left-color: var(--fill-color);\n",
              "      border-top-color: var(--fill-color);\n",
              "      border-right-color: var(--fill-color);\n",
              "    }\n",
              "    40% {\n",
              "      border-color: transparent;\n",
              "      border-right-color: var(--fill-color);\n",
              "      border-top-color: var(--fill-color);\n",
              "    }\n",
              "    60% {\n",
              "      border-color: transparent;\n",
              "      border-right-color: var(--fill-color);\n",
              "    }\n",
              "    80% {\n",
              "      border-color: transparent;\n",
              "      border-right-color: var(--fill-color);\n",
              "      border-bottom-color: var(--fill-color);\n",
              "    }\n",
              "    90% {\n",
              "      border-color: transparent;\n",
              "      border-bottom-color: var(--fill-color);\n",
              "    }\n",
              "  }\n",
              "</style>\n",
              "\n",
              "  <script>\n",
              "    async function quickchart(key) {\n",
              "      const quickchartButtonEl =\n",
              "        document.querySelector('#' + key + ' button');\n",
              "      quickchartButtonEl.disabled = true;  // To prevent multiple clicks.\n",
              "      quickchartButtonEl.classList.add('colab-df-spinner');\n",
              "      try {\n",
              "        const charts = await google.colab.kernel.invokeFunction(\n",
              "            'suggestCharts', [key], {});\n",
              "      } catch (error) {\n",
              "        console.error('Error during call to suggestCharts:', error);\n",
              "      }\n",
              "      quickchartButtonEl.classList.remove('colab-df-spinner');\n",
              "      quickchartButtonEl.classList.add('colab-df-quickchart-complete');\n",
              "    }\n",
              "    (() => {\n",
              "      let quickchartButtonEl =\n",
              "        document.querySelector('#df-51794e6a-b7b3-4856-803b-8baeadf29907 button');\n",
              "      quickchartButtonEl.style.display =\n",
              "        google.colab.kernel.accessAllowed ? 'block' : 'none';\n",
              "    })();\n",
              "  </script>\n",
              "</div>\n",
              "\n",
              "    </div>\n",
              "  </div>\n"
            ],
            "application/vnd.google.colaboratory.intrinsic+json": {
              "type": "dataframe",
              "variable_name": "df",
              "summary": "{\n  \"name\": \"df\",\n  \"rows\": 84,\n  \"fields\": [\n    {\n      \"column\": \"Timestamp\",\n      \"properties\": {\n        \"dtype\": \"object\",\n        \"num_unique_values\": 82,\n        \"samples\": [\n          \"2025/03/07 12:53:50 AM GMT+2\",\n          \"2025/03/06 10:43:43 PM GMT+2\",\n          \"2025/03/06 11:45:04 PM GMT+2\"\n        ],\n        \"semantic_type\": \"\",\n        \"description\": \"\"\n      }\n    },\n    {\n      \"column\": \"What is your age group?  \",\n      \"properties\": {\n        \"dtype\": \"category\",\n        \"num_unique_values\": 5,\n        \"samples\": [\n          \"30+\",\n          \"less than 18\",\n          \"18-24\"\n        ],\n        \"semantic_type\": \"\",\n        \"description\": \"\"\n      }\n    },\n    {\n      \"column\": \"What is your gender?\",\n      \"properties\": {\n        \"dtype\": \"category\",\n        \"num_unique_values\": 2,\n        \"samples\": [\n          \"Female\",\n          \"Male\"\n        ],\n        \"semantic_type\": \"\",\n        \"description\": \"\"\n      }\n    },\n    {\n      \"column\": \"How many Ramadan series do you typically watch during the month?\\n\",\n      \"properties\": {\n        \"dtype\": \"category\",\n        \"num_unique_values\": 5,\n        \"samples\": [\n          \"3\",\n          \"4+\"\n        ],\n        \"semantic_type\": \"\",\n        \"description\": \"\"\n      }\n    },\n    {\n      \"column\": \"On average, how many episodes of Ramadan series do you watch per day?\\n\",\n      \"properties\": {\n        \"dtype\": \"category\",\n        \"num_unique_values\": 5,\n        \"samples\": [\n          \"2\\u20133\",\n          \"More than 5\"\n        ],\n        \"semantic_type\": \"\",\n        \"description\": \"\"\n      }\n    },\n    {\n      \"column\": \"What time of day do you usually watch Ramadan series?\",\n      \"properties\": {\n        \"dtype\": \"category\",\n        \"num_unique_values\": 5,\n        \"samples\": [\n          \"Afternoon\",\n          \"Morning\"\n        ],\n        \"semantic_type\": \"\",\n        \"description\": \"\"\n      }\n    },\n    {\n      \"column\": \"Which Ramadan series have you watched this year?\",\n      \"properties\": {\n        \"dtype\": \"category\",\n        \"num_unique_values\": 28,\n        \"samples\": [\n          \"\\u0627\\u0634\\u063a\\u0627\\u0644 \\u0634\\u0642\\u0647 \\u062c\\u062f\\u0627;\\u0627\\u062e\\u0648\\u0627\\u062a\\u064a\",\n          \"\\u0648\\u0644\\u0627\\u062f \\u0627\\u0644\\u0634\\u0645\\u0633;\\u0643\\u0627\\u0645\\u0644 \\u0627\\u0644\\u0639\\u062f\\u062f ++;\"\n        ],\n        \"semantic_type\": \"\",\n        \"description\": \"\"\n      }\n    },\n    {\n      \"column\": \"On which platforms do you watch Ramadan series? (Select all that apply)\",\n      \"properties\": {\n        \"dtype\": \"category\",\n        \"num_unique_values\": 18,\n        \"samples\": [\n          \"Shahid;WatchIt\",\n          \"Other apps\"\n        ],\n        \"semantic_type\": \"\",\n        \"description\": \"\"\n      }\n    },\n    {\n      \"column\": \"Do you discuss Ramadan series with others (e.g., family, friends, or on social media)?\",\n      \"properties\": {\n        \"dtype\": \"category\",\n        \"num_unique_values\": 4,\n        \"samples\": [\n          \"Yes, often\",\n          \"Rarely\"\n        ],\n        \"semantic_type\": \"\",\n        \"description\": \"\"\n      }\n    }\n  ]\n}"
            }
          },
          "metadata": {},
          "execution_count": 247
        }
      ]
    },
    {
      "cell_type": "markdown",
      "source": [
        "## **Cleaning**"
      ],
      "metadata": {
        "id": "cwInFDqTDYMc"
      }
    },
    {
      "cell_type": "markdown",
      "source": [
        "1. I will delete unnecessary and non-helpful columns"
      ],
      "metadata": {
        "id": "2s4SySHqGeCn"
      }
    },
    {
      "cell_type": "code",
      "source": [
        "del df['Timestamp']\n",
        "del df['What time of day do you usually watch Ramadan series?']\n",
        "del df['Do you discuss Ramadan series with others (e.g., family, friends, or on social media)?']\n",
        "df.head()"
      ],
      "metadata": {
        "colab": {
          "base_uri": "https://localhost:8080/"
        },
        "id": "AUA6Yy-HGDoU",
        "outputId": "26687551-ec68-4e15-ec9a-265a7986aaaf"
      },
      "execution_count": null,
      "outputs": [
        {
          "output_type": "execute_result",
          "data": {
            "text/plain": [
              "  What is your age group?   What is your gender?  \\\n",
              "0                     18–24                 Male   \n",
              "1                     18–24               Female   \n",
              "2                     18–24                 Male   \n",
              "3                     18–24                 Male   \n",
              "4                     18–24                 Male   \n",
              "\n",
              "  How many Ramadan series do you typically watch during the month?\\n  \\\n",
              "0                                                  2                   \n",
              "1                                                  2                   \n",
              "2                                                  3                   \n",
              "3                                                  3                   \n",
              "4                                                  2                   \n",
              "\n",
              "  On average, how many episodes of Ramadan series do you watch per day?\\n  \\\n",
              "0                                                  1                        \n",
              "1                                                  1                        \n",
              "2                                                2–3                        \n",
              "3                                                2–3                        \n",
              "4                                                2–3                        \n",
              "\n",
              "  Which Ramadan series have you watched this year?  \\\n",
              "0                      اشغال شقه جدا;كامل العدد ++   \n",
              "1                         ولاد الشمس;كامل العدد ++   \n",
              "2                      اشغال شقه جدا;كامل العدد ++   \n",
              "3                    اشغال شقه جدا;النص;ولاد الشمس   \n",
              "4                                ولاد الشمس;المداح   \n",
              "\n",
              "  On which platforms do you watch Ramadan series? (Select all that apply)  \n",
              "0                                     Shahid;WatchIt                       \n",
              "1                                     Shahid;WatchIt                       \n",
              "2                                         Other apps                       \n",
              "3                                         Yango Play                       \n",
              "4                                            Live TV                       "
            ],
            "text/html": [
              "\n",
              "  <div id=\"df-de7f224e-aa7c-48b0-927c-fac932282c5f\" class=\"colab-df-container\">\n",
              "    <div>\n",
              "<style scoped>\n",
              "    .dataframe tbody tr th:only-of-type {\n",
              "        vertical-align: middle;\n",
              "    }\n",
              "\n",
              "    .dataframe tbody tr th {\n",
              "        vertical-align: top;\n",
              "    }\n",
              "\n",
              "    .dataframe thead th {\n",
              "        text-align: right;\n",
              "    }\n",
              "</style>\n",
              "<table border=\"1\" class=\"dataframe\">\n",
              "  <thead>\n",
              "    <tr style=\"text-align: right;\">\n",
              "      <th></th>\n",
              "      <th>What is your age group?</th>\n",
              "      <th>What is your gender?</th>\n",
              "      <th>How many Ramadan series do you typically watch during the month?\\n</th>\n",
              "      <th>On average, how many episodes of Ramadan series do you watch per day?\\n</th>\n",
              "      <th>Which Ramadan series have you watched this year?</th>\n",
              "      <th>On which platforms do you watch Ramadan series? (Select all that apply)</th>\n",
              "    </tr>\n",
              "  </thead>\n",
              "  <tbody>\n",
              "    <tr>\n",
              "      <th>0</th>\n",
              "      <td>18–24</td>\n",
              "      <td>Male</td>\n",
              "      <td>2</td>\n",
              "      <td>1</td>\n",
              "      <td>اشغال شقه جدا;كامل العدد ++</td>\n",
              "      <td>Shahid;WatchIt</td>\n",
              "    </tr>\n",
              "    <tr>\n",
              "      <th>1</th>\n",
              "      <td>18–24</td>\n",
              "      <td>Female</td>\n",
              "      <td>2</td>\n",
              "      <td>1</td>\n",
              "      <td>ولاد الشمس;كامل العدد ++</td>\n",
              "      <td>Shahid;WatchIt</td>\n",
              "    </tr>\n",
              "    <tr>\n",
              "      <th>2</th>\n",
              "      <td>18–24</td>\n",
              "      <td>Male</td>\n",
              "      <td>3</td>\n",
              "      <td>2–3</td>\n",
              "      <td>اشغال شقه جدا;كامل العدد ++</td>\n",
              "      <td>Other apps</td>\n",
              "    </tr>\n",
              "    <tr>\n",
              "      <th>3</th>\n",
              "      <td>18–24</td>\n",
              "      <td>Male</td>\n",
              "      <td>3</td>\n",
              "      <td>2–3</td>\n",
              "      <td>اشغال شقه جدا;النص;ولاد الشمس</td>\n",
              "      <td>Yango Play</td>\n",
              "    </tr>\n",
              "    <tr>\n",
              "      <th>4</th>\n",
              "      <td>18–24</td>\n",
              "      <td>Male</td>\n",
              "      <td>2</td>\n",
              "      <td>2–3</td>\n",
              "      <td>ولاد الشمس;المداح</td>\n",
              "      <td>Live TV</td>\n",
              "    </tr>\n",
              "  </tbody>\n",
              "</table>\n",
              "</div>\n",
              "    <div class=\"colab-df-buttons\">\n",
              "\n",
              "  <div class=\"colab-df-container\">\n",
              "    <button class=\"colab-df-convert\" onclick=\"convertToInteractive('df-de7f224e-aa7c-48b0-927c-fac932282c5f')\"\n",
              "            title=\"Convert this dataframe to an interactive table.\"\n",
              "            style=\"display:none;\">\n",
              "\n",
              "  <svg xmlns=\"http://www.w3.org/2000/svg\" height=\"24px\" viewBox=\"0 -960 960 960\">\n",
              "    <path d=\"M120-120v-720h720v720H120Zm60-500h600v-160H180v160Zm220 220h160v-160H400v160Zm0 220h160v-160H400v160ZM180-400h160v-160H180v160Zm440 0h160v-160H620v160ZM180-180h160v-160H180v160Zm440 0h160v-160H620v160Z\"/>\n",
              "  </svg>\n",
              "    </button>\n",
              "\n",
              "  <style>\n",
              "    .colab-df-container {\n",
              "      display:flex;\n",
              "      gap: 12px;\n",
              "    }\n",
              "\n",
              "    .colab-df-convert {\n",
              "      background-color: #E8F0FE;\n",
              "      border: none;\n",
              "      border-radius: 50%;\n",
              "      cursor: pointer;\n",
              "      display: none;\n",
              "      fill: #1967D2;\n",
              "      height: 32px;\n",
              "      padding: 0 0 0 0;\n",
              "      width: 32px;\n",
              "    }\n",
              "\n",
              "    .colab-df-convert:hover {\n",
              "      background-color: #E2EBFA;\n",
              "      box-shadow: 0px 1px 2px rgba(60, 64, 67, 0.3), 0px 1px 3px 1px rgba(60, 64, 67, 0.15);\n",
              "      fill: #174EA6;\n",
              "    }\n",
              "\n",
              "    .colab-df-buttons div {\n",
              "      margin-bottom: 4px;\n",
              "    }\n",
              "\n",
              "    [theme=dark] .colab-df-convert {\n",
              "      background-color: #3B4455;\n",
              "      fill: #D2E3FC;\n",
              "    }\n",
              "\n",
              "    [theme=dark] .colab-df-convert:hover {\n",
              "      background-color: #434B5C;\n",
              "      box-shadow: 0px 1px 3px 1px rgba(0, 0, 0, 0.15);\n",
              "      filter: drop-shadow(0px 1px 2px rgba(0, 0, 0, 0.3));\n",
              "      fill: #FFFFFF;\n",
              "    }\n",
              "  </style>\n",
              "\n",
              "    <script>\n",
              "      const buttonEl =\n",
              "        document.querySelector('#df-de7f224e-aa7c-48b0-927c-fac932282c5f button.colab-df-convert');\n",
              "      buttonEl.style.display =\n",
              "        google.colab.kernel.accessAllowed ? 'block' : 'none';\n",
              "\n",
              "      async function convertToInteractive(key) {\n",
              "        const element = document.querySelector('#df-de7f224e-aa7c-48b0-927c-fac932282c5f');\n",
              "        const dataTable =\n",
              "          await google.colab.kernel.invokeFunction('convertToInteractive',\n",
              "                                                    [key], {});\n",
              "        if (!dataTable) return;\n",
              "\n",
              "        const docLinkHtml = 'Like what you see? Visit the ' +\n",
              "          '<a target=\"_blank\" href=https://colab.research.google.com/notebooks/data_table.ipynb>data table notebook</a>'\n",
              "          + ' to learn more about interactive tables.';\n",
              "        element.innerHTML = '';\n",
              "        dataTable['output_type'] = 'display_data';\n",
              "        await google.colab.output.renderOutput(dataTable, element);\n",
              "        const docLink = document.createElement('div');\n",
              "        docLink.innerHTML = docLinkHtml;\n",
              "        element.appendChild(docLink);\n",
              "      }\n",
              "    </script>\n",
              "  </div>\n",
              "\n",
              "\n",
              "<div id=\"df-a5bf2460-7303-4c15-a3ce-39693703a9c5\">\n",
              "  <button class=\"colab-df-quickchart\" onclick=\"quickchart('df-a5bf2460-7303-4c15-a3ce-39693703a9c5')\"\n",
              "            title=\"Suggest charts\"\n",
              "            style=\"display:none;\">\n",
              "\n",
              "<svg xmlns=\"http://www.w3.org/2000/svg\" height=\"24px\"viewBox=\"0 0 24 24\"\n",
              "     width=\"24px\">\n",
              "    <g>\n",
              "        <path d=\"M19 3H5c-1.1 0-2 .9-2 2v14c0 1.1.9 2 2 2h14c1.1 0 2-.9 2-2V5c0-1.1-.9-2-2-2zM9 17H7v-7h2v7zm4 0h-2V7h2v10zm4 0h-2v-4h2v4z\"/>\n",
              "    </g>\n",
              "</svg>\n",
              "  </button>\n",
              "\n",
              "<style>\n",
              "  .colab-df-quickchart {\n",
              "      --bg-color: #E8F0FE;\n",
              "      --fill-color: #1967D2;\n",
              "      --hover-bg-color: #E2EBFA;\n",
              "      --hover-fill-color: #174EA6;\n",
              "      --disabled-fill-color: #AAA;\n",
              "      --disabled-bg-color: #DDD;\n",
              "  }\n",
              "\n",
              "  [theme=dark] .colab-df-quickchart {\n",
              "      --bg-color: #3B4455;\n",
              "      --fill-color: #D2E3FC;\n",
              "      --hover-bg-color: #434B5C;\n",
              "      --hover-fill-color: #FFFFFF;\n",
              "      --disabled-bg-color: #3B4455;\n",
              "      --disabled-fill-color: #666;\n",
              "  }\n",
              "\n",
              "  .colab-df-quickchart {\n",
              "    background-color: var(--bg-color);\n",
              "    border: none;\n",
              "    border-radius: 50%;\n",
              "    cursor: pointer;\n",
              "    display: none;\n",
              "    fill: var(--fill-color);\n",
              "    height: 32px;\n",
              "    padding: 0;\n",
              "    width: 32px;\n",
              "  }\n",
              "\n",
              "  .colab-df-quickchart:hover {\n",
              "    background-color: var(--hover-bg-color);\n",
              "    box-shadow: 0 1px 2px rgba(60, 64, 67, 0.3), 0 1px 3px 1px rgba(60, 64, 67, 0.15);\n",
              "    fill: var(--button-hover-fill-color);\n",
              "  }\n",
              "\n",
              "  .colab-df-quickchart-complete:disabled,\n",
              "  .colab-df-quickchart-complete:disabled:hover {\n",
              "    background-color: var(--disabled-bg-color);\n",
              "    fill: var(--disabled-fill-color);\n",
              "    box-shadow: none;\n",
              "  }\n",
              "\n",
              "  .colab-df-spinner {\n",
              "    border: 2px solid var(--fill-color);\n",
              "    border-color: transparent;\n",
              "    border-bottom-color: var(--fill-color);\n",
              "    animation:\n",
              "      spin 1s steps(1) infinite;\n",
              "  }\n",
              "\n",
              "  @keyframes spin {\n",
              "    0% {\n",
              "      border-color: transparent;\n",
              "      border-bottom-color: var(--fill-color);\n",
              "      border-left-color: var(--fill-color);\n",
              "    }\n",
              "    20% {\n",
              "      border-color: transparent;\n",
              "      border-left-color: var(--fill-color);\n",
              "      border-top-color: var(--fill-color);\n",
              "    }\n",
              "    30% {\n",
              "      border-color: transparent;\n",
              "      border-left-color: var(--fill-color);\n",
              "      border-top-color: var(--fill-color);\n",
              "      border-right-color: var(--fill-color);\n",
              "    }\n",
              "    40% {\n",
              "      border-color: transparent;\n",
              "      border-right-color: var(--fill-color);\n",
              "      border-top-color: var(--fill-color);\n",
              "    }\n",
              "    60% {\n",
              "      border-color: transparent;\n",
              "      border-right-color: var(--fill-color);\n",
              "    }\n",
              "    80% {\n",
              "      border-color: transparent;\n",
              "      border-right-color: var(--fill-color);\n",
              "      border-bottom-color: var(--fill-color);\n",
              "    }\n",
              "    90% {\n",
              "      border-color: transparent;\n",
              "      border-bottom-color: var(--fill-color);\n",
              "    }\n",
              "  }\n",
              "</style>\n",
              "\n",
              "  <script>\n",
              "    async function quickchart(key) {\n",
              "      const quickchartButtonEl =\n",
              "        document.querySelector('#' + key + ' button');\n",
              "      quickchartButtonEl.disabled = true;  // To prevent multiple clicks.\n",
              "      quickchartButtonEl.classList.add('colab-df-spinner');\n",
              "      try {\n",
              "        const charts = await google.colab.kernel.invokeFunction(\n",
              "            'suggestCharts', [key], {});\n",
              "      } catch (error) {\n",
              "        console.error('Error during call to suggestCharts:', error);\n",
              "      }\n",
              "      quickchartButtonEl.classList.remove('colab-df-spinner');\n",
              "      quickchartButtonEl.classList.add('colab-df-quickchart-complete');\n",
              "    }\n",
              "    (() => {\n",
              "      let quickchartButtonEl =\n",
              "        document.querySelector('#df-a5bf2460-7303-4c15-a3ce-39693703a9c5 button');\n",
              "      quickchartButtonEl.style.display =\n",
              "        google.colab.kernel.accessAllowed ? 'block' : 'none';\n",
              "    })();\n",
              "  </script>\n",
              "</div>\n",
              "\n",
              "    </div>\n",
              "  </div>\n"
            ],
            "application/vnd.google.colaboratory.intrinsic+json": {
              "type": "dataframe",
              "variable_name": "df",
              "summary": "{\n  \"name\": \"df\",\n  \"rows\": 84,\n  \"fields\": [\n    {\n      \"column\": \"What is your age group?  \",\n      \"properties\": {\n        \"dtype\": \"category\",\n        \"num_unique_values\": 5,\n        \"samples\": [\n          \"30+\",\n          \"less than 18\",\n          \"18-24\"\n        ],\n        \"semantic_type\": \"\",\n        \"description\": \"\"\n      }\n    },\n    {\n      \"column\": \"What is your gender?\",\n      \"properties\": {\n        \"dtype\": \"category\",\n        \"num_unique_values\": 2,\n        \"samples\": [\n          \"Female\",\n          \"Male\"\n        ],\n        \"semantic_type\": \"\",\n        \"description\": \"\"\n      }\n    },\n    {\n      \"column\": \"How many Ramadan series do you typically watch during the month?\\n\",\n      \"properties\": {\n        \"dtype\": \"category\",\n        \"num_unique_values\": 5,\n        \"samples\": [\n          \"3\",\n          \"4+\"\n        ],\n        \"semantic_type\": \"\",\n        \"description\": \"\"\n      }\n    },\n    {\n      \"column\": \"On average, how many episodes of Ramadan series do you watch per day?\\n\",\n      \"properties\": {\n        \"dtype\": \"category\",\n        \"num_unique_values\": 5,\n        \"samples\": [\n          \"2\\u20133\",\n          \"More than 5\"\n        ],\n        \"semantic_type\": \"\",\n        \"description\": \"\"\n      }\n    },\n    {\n      \"column\": \"Which Ramadan series have you watched this year?\",\n      \"properties\": {\n        \"dtype\": \"category\",\n        \"num_unique_values\": 28,\n        \"samples\": [\n          \"\\u0627\\u0634\\u063a\\u0627\\u0644 \\u0634\\u0642\\u0647 \\u062c\\u062f\\u0627;\\u0627\\u062e\\u0648\\u0627\\u062a\\u064a\",\n          \"\\u0648\\u0644\\u0627\\u062f \\u0627\\u0644\\u0634\\u0645\\u0633;\\u0643\\u0627\\u0645\\u0644 \\u0627\\u0644\\u0639\\u062f\\u062f ++;\"\n        ],\n        \"semantic_type\": \"\",\n        \"description\": \"\"\n      }\n    },\n    {\n      \"column\": \"On which platforms do you watch Ramadan series? (Select all that apply)\",\n      \"properties\": {\n        \"dtype\": \"category\",\n        \"num_unique_values\": 18,\n        \"samples\": [\n          \"Shahid;WatchIt\",\n          \"Other apps\"\n        ],\n        \"semantic_type\": \"\",\n        \"description\": \"\"\n      }\n    }\n  ]\n}"
            }
          },
          "metadata": {},
          "execution_count": 248
        }
      ]
    },
    {
      "cell_type": "markdown",
      "source": [
        "2. Renaming Row Titles:"
      ],
      "metadata": {
        "id": "k0olQm-4GzqG"
      }
    },
    {
      "cell_type": "code",
      "source": [
        "df.columns = df.columns.str.strip()\n",
        "\n",
        "df.rename(columns={\n",
        "    'What is your age group?': 'Age Group',\n",
        "    'What is your gender?': 'Gender',\n",
        "    'How many Ramadan series do you typically watch during the month?': 'Series Count',\n",
        "    'On average, how many episodes of Ramadan series do you watch per day?': 'episodes/day',\n",
        "    'What time of day do you usually watch Ramadan series?': 'Time of Watching',\n",
        "    'Which Ramadan series have you watched this year?': 'Series Watched',\n",
        "    'On which platforms do you watch Ramadan series? (Select all that apply)': 'platforms'\n",
        "}, inplace=True)\n",
        "\n",
        "df.head()"
      ],
      "metadata": {
        "colab": {
          "base_uri": "https://localhost:8080/"
        },
        "id": "w3nxwLKRMoSR",
        "outputId": "5d3e650f-e774-4fc0-bc03-5ee03f23f205"
      },
      "execution_count": null,
      "outputs": [
        {
          "output_type": "execute_result",
          "data": {
            "text/plain": [
              "  Age Group  Gender Series Count episodes/day                 Series Watched  \\\n",
              "0     18–24    Male            2            1    اشغال شقه جدا;كامل العدد ++   \n",
              "1     18–24  Female            2            1       ولاد الشمس;كامل العدد ++   \n",
              "2     18–24    Male            3          2–3    اشغال شقه جدا;كامل العدد ++   \n",
              "3     18–24    Male            3          2–3  اشغال شقه جدا;النص;ولاد الشمس   \n",
              "4     18–24    Male            2          2–3              ولاد الشمس;المداح   \n",
              "\n",
              "        platforms  \n",
              "0  Shahid;WatchIt  \n",
              "1  Shahid;WatchIt  \n",
              "2      Other apps  \n",
              "3      Yango Play  \n",
              "4         Live TV  "
            ],
            "text/html": [
              "\n",
              "  <div id=\"df-76d22c15-f721-4d60-9696-490ac602c6c2\" class=\"colab-df-container\">\n",
              "    <div>\n",
              "<style scoped>\n",
              "    .dataframe tbody tr th:only-of-type {\n",
              "        vertical-align: middle;\n",
              "    }\n",
              "\n",
              "    .dataframe tbody tr th {\n",
              "        vertical-align: top;\n",
              "    }\n",
              "\n",
              "    .dataframe thead th {\n",
              "        text-align: right;\n",
              "    }\n",
              "</style>\n",
              "<table border=\"1\" class=\"dataframe\">\n",
              "  <thead>\n",
              "    <tr style=\"text-align: right;\">\n",
              "      <th></th>\n",
              "      <th>Age Group</th>\n",
              "      <th>Gender</th>\n",
              "      <th>Series Count</th>\n",
              "      <th>episodes/day</th>\n",
              "      <th>Series Watched</th>\n",
              "      <th>platforms</th>\n",
              "    </tr>\n",
              "  </thead>\n",
              "  <tbody>\n",
              "    <tr>\n",
              "      <th>0</th>\n",
              "      <td>18–24</td>\n",
              "      <td>Male</td>\n",
              "      <td>2</td>\n",
              "      <td>1</td>\n",
              "      <td>اشغال شقه جدا;كامل العدد ++</td>\n",
              "      <td>Shahid;WatchIt</td>\n",
              "    </tr>\n",
              "    <tr>\n",
              "      <th>1</th>\n",
              "      <td>18–24</td>\n",
              "      <td>Female</td>\n",
              "      <td>2</td>\n",
              "      <td>1</td>\n",
              "      <td>ولاد الشمس;كامل العدد ++</td>\n",
              "      <td>Shahid;WatchIt</td>\n",
              "    </tr>\n",
              "    <tr>\n",
              "      <th>2</th>\n",
              "      <td>18–24</td>\n",
              "      <td>Male</td>\n",
              "      <td>3</td>\n",
              "      <td>2–3</td>\n",
              "      <td>اشغال شقه جدا;كامل العدد ++</td>\n",
              "      <td>Other apps</td>\n",
              "    </tr>\n",
              "    <tr>\n",
              "      <th>3</th>\n",
              "      <td>18–24</td>\n",
              "      <td>Male</td>\n",
              "      <td>3</td>\n",
              "      <td>2–3</td>\n",
              "      <td>اشغال شقه جدا;النص;ولاد الشمس</td>\n",
              "      <td>Yango Play</td>\n",
              "    </tr>\n",
              "    <tr>\n",
              "      <th>4</th>\n",
              "      <td>18–24</td>\n",
              "      <td>Male</td>\n",
              "      <td>2</td>\n",
              "      <td>2–3</td>\n",
              "      <td>ولاد الشمس;المداح</td>\n",
              "      <td>Live TV</td>\n",
              "    </tr>\n",
              "  </tbody>\n",
              "</table>\n",
              "</div>\n",
              "    <div class=\"colab-df-buttons\">\n",
              "\n",
              "  <div class=\"colab-df-container\">\n",
              "    <button class=\"colab-df-convert\" onclick=\"convertToInteractive('df-76d22c15-f721-4d60-9696-490ac602c6c2')\"\n",
              "            title=\"Convert this dataframe to an interactive table.\"\n",
              "            style=\"display:none;\">\n",
              "\n",
              "  <svg xmlns=\"http://www.w3.org/2000/svg\" height=\"24px\" viewBox=\"0 -960 960 960\">\n",
              "    <path d=\"M120-120v-720h720v720H120Zm60-500h600v-160H180v160Zm220 220h160v-160H400v160Zm0 220h160v-160H400v160ZM180-400h160v-160H180v160Zm440 0h160v-160H620v160ZM180-180h160v-160H180v160Zm440 0h160v-160H620v160Z\"/>\n",
              "  </svg>\n",
              "    </button>\n",
              "\n",
              "  <style>\n",
              "    .colab-df-container {\n",
              "      display:flex;\n",
              "      gap: 12px;\n",
              "    }\n",
              "\n",
              "    .colab-df-convert {\n",
              "      background-color: #E8F0FE;\n",
              "      border: none;\n",
              "      border-radius: 50%;\n",
              "      cursor: pointer;\n",
              "      display: none;\n",
              "      fill: #1967D2;\n",
              "      height: 32px;\n",
              "      padding: 0 0 0 0;\n",
              "      width: 32px;\n",
              "    }\n",
              "\n",
              "    .colab-df-convert:hover {\n",
              "      background-color: #E2EBFA;\n",
              "      box-shadow: 0px 1px 2px rgba(60, 64, 67, 0.3), 0px 1px 3px 1px rgba(60, 64, 67, 0.15);\n",
              "      fill: #174EA6;\n",
              "    }\n",
              "\n",
              "    .colab-df-buttons div {\n",
              "      margin-bottom: 4px;\n",
              "    }\n",
              "\n",
              "    [theme=dark] .colab-df-convert {\n",
              "      background-color: #3B4455;\n",
              "      fill: #D2E3FC;\n",
              "    }\n",
              "\n",
              "    [theme=dark] .colab-df-convert:hover {\n",
              "      background-color: #434B5C;\n",
              "      box-shadow: 0px 1px 3px 1px rgba(0, 0, 0, 0.15);\n",
              "      filter: drop-shadow(0px 1px 2px rgba(0, 0, 0, 0.3));\n",
              "      fill: #FFFFFF;\n",
              "    }\n",
              "  </style>\n",
              "\n",
              "    <script>\n",
              "      const buttonEl =\n",
              "        document.querySelector('#df-76d22c15-f721-4d60-9696-490ac602c6c2 button.colab-df-convert');\n",
              "      buttonEl.style.display =\n",
              "        google.colab.kernel.accessAllowed ? 'block' : 'none';\n",
              "\n",
              "      async function convertToInteractive(key) {\n",
              "        const element = document.querySelector('#df-76d22c15-f721-4d60-9696-490ac602c6c2');\n",
              "        const dataTable =\n",
              "          await google.colab.kernel.invokeFunction('convertToInteractive',\n",
              "                                                    [key], {});\n",
              "        if (!dataTable) return;\n",
              "\n",
              "        const docLinkHtml = 'Like what you see? Visit the ' +\n",
              "          '<a target=\"_blank\" href=https://colab.research.google.com/notebooks/data_table.ipynb>data table notebook</a>'\n",
              "          + ' to learn more about interactive tables.';\n",
              "        element.innerHTML = '';\n",
              "        dataTable['output_type'] = 'display_data';\n",
              "        await google.colab.output.renderOutput(dataTable, element);\n",
              "        const docLink = document.createElement('div');\n",
              "        docLink.innerHTML = docLinkHtml;\n",
              "        element.appendChild(docLink);\n",
              "      }\n",
              "    </script>\n",
              "  </div>\n",
              "\n",
              "\n",
              "<div id=\"df-bf5d5c31-871f-45e7-8916-85699ec108e7\">\n",
              "  <button class=\"colab-df-quickchart\" onclick=\"quickchart('df-bf5d5c31-871f-45e7-8916-85699ec108e7')\"\n",
              "            title=\"Suggest charts\"\n",
              "            style=\"display:none;\">\n",
              "\n",
              "<svg xmlns=\"http://www.w3.org/2000/svg\" height=\"24px\"viewBox=\"0 0 24 24\"\n",
              "     width=\"24px\">\n",
              "    <g>\n",
              "        <path d=\"M19 3H5c-1.1 0-2 .9-2 2v14c0 1.1.9 2 2 2h14c1.1 0 2-.9 2-2V5c0-1.1-.9-2-2-2zM9 17H7v-7h2v7zm4 0h-2V7h2v10zm4 0h-2v-4h2v4z\"/>\n",
              "    </g>\n",
              "</svg>\n",
              "  </button>\n",
              "\n",
              "<style>\n",
              "  .colab-df-quickchart {\n",
              "      --bg-color: #E8F0FE;\n",
              "      --fill-color: #1967D2;\n",
              "      --hover-bg-color: #E2EBFA;\n",
              "      --hover-fill-color: #174EA6;\n",
              "      --disabled-fill-color: #AAA;\n",
              "      --disabled-bg-color: #DDD;\n",
              "  }\n",
              "\n",
              "  [theme=dark] .colab-df-quickchart {\n",
              "      --bg-color: #3B4455;\n",
              "      --fill-color: #D2E3FC;\n",
              "      --hover-bg-color: #434B5C;\n",
              "      --hover-fill-color: #FFFFFF;\n",
              "      --disabled-bg-color: #3B4455;\n",
              "      --disabled-fill-color: #666;\n",
              "  }\n",
              "\n",
              "  .colab-df-quickchart {\n",
              "    background-color: var(--bg-color);\n",
              "    border: none;\n",
              "    border-radius: 50%;\n",
              "    cursor: pointer;\n",
              "    display: none;\n",
              "    fill: var(--fill-color);\n",
              "    height: 32px;\n",
              "    padding: 0;\n",
              "    width: 32px;\n",
              "  }\n",
              "\n",
              "  .colab-df-quickchart:hover {\n",
              "    background-color: var(--hover-bg-color);\n",
              "    box-shadow: 0 1px 2px rgba(60, 64, 67, 0.3), 0 1px 3px 1px rgba(60, 64, 67, 0.15);\n",
              "    fill: var(--button-hover-fill-color);\n",
              "  }\n",
              "\n",
              "  .colab-df-quickchart-complete:disabled,\n",
              "  .colab-df-quickchart-complete:disabled:hover {\n",
              "    background-color: var(--disabled-bg-color);\n",
              "    fill: var(--disabled-fill-color);\n",
              "    box-shadow: none;\n",
              "  }\n",
              "\n",
              "  .colab-df-spinner {\n",
              "    border: 2px solid var(--fill-color);\n",
              "    border-color: transparent;\n",
              "    border-bottom-color: var(--fill-color);\n",
              "    animation:\n",
              "      spin 1s steps(1) infinite;\n",
              "  }\n",
              "\n",
              "  @keyframes spin {\n",
              "    0% {\n",
              "      border-color: transparent;\n",
              "      border-bottom-color: var(--fill-color);\n",
              "      border-left-color: var(--fill-color);\n",
              "    }\n",
              "    20% {\n",
              "      border-color: transparent;\n",
              "      border-left-color: var(--fill-color);\n",
              "      border-top-color: var(--fill-color);\n",
              "    }\n",
              "    30% {\n",
              "      border-color: transparent;\n",
              "      border-left-color: var(--fill-color);\n",
              "      border-top-color: var(--fill-color);\n",
              "      border-right-color: var(--fill-color);\n",
              "    }\n",
              "    40% {\n",
              "      border-color: transparent;\n",
              "      border-right-color: var(--fill-color);\n",
              "      border-top-color: var(--fill-color);\n",
              "    }\n",
              "    60% {\n",
              "      border-color: transparent;\n",
              "      border-right-color: var(--fill-color);\n",
              "    }\n",
              "    80% {\n",
              "      border-color: transparent;\n",
              "      border-right-color: var(--fill-color);\n",
              "      border-bottom-color: var(--fill-color);\n",
              "    }\n",
              "    90% {\n",
              "      border-color: transparent;\n",
              "      border-bottom-color: var(--fill-color);\n",
              "    }\n",
              "  }\n",
              "</style>\n",
              "\n",
              "  <script>\n",
              "    async function quickchart(key) {\n",
              "      const quickchartButtonEl =\n",
              "        document.querySelector('#' + key + ' button');\n",
              "      quickchartButtonEl.disabled = true;  // To prevent multiple clicks.\n",
              "      quickchartButtonEl.classList.add('colab-df-spinner');\n",
              "      try {\n",
              "        const charts = await google.colab.kernel.invokeFunction(\n",
              "            'suggestCharts', [key], {});\n",
              "      } catch (error) {\n",
              "        console.error('Error during call to suggestCharts:', error);\n",
              "      }\n",
              "      quickchartButtonEl.classList.remove('colab-df-spinner');\n",
              "      quickchartButtonEl.classList.add('colab-df-quickchart-complete');\n",
              "    }\n",
              "    (() => {\n",
              "      let quickchartButtonEl =\n",
              "        document.querySelector('#df-bf5d5c31-871f-45e7-8916-85699ec108e7 button');\n",
              "      quickchartButtonEl.style.display =\n",
              "        google.colab.kernel.accessAllowed ? 'block' : 'none';\n",
              "    })();\n",
              "  </script>\n",
              "</div>\n",
              "\n",
              "    </div>\n",
              "  </div>\n"
            ],
            "application/vnd.google.colaboratory.intrinsic+json": {
              "type": "dataframe",
              "variable_name": "df",
              "summary": "{\n  \"name\": \"df\",\n  \"rows\": 84,\n  \"fields\": [\n    {\n      \"column\": \"Age Group\",\n      \"properties\": {\n        \"dtype\": \"category\",\n        \"num_unique_values\": 5,\n        \"samples\": [\n          \"30+\",\n          \"less than 18\",\n          \"18-24\"\n        ],\n        \"semantic_type\": \"\",\n        \"description\": \"\"\n      }\n    },\n    {\n      \"column\": \"Gender\",\n      \"properties\": {\n        \"dtype\": \"category\",\n        \"num_unique_values\": 2,\n        \"samples\": [\n          \"Female\",\n          \"Male\"\n        ],\n        \"semantic_type\": \"\",\n        \"description\": \"\"\n      }\n    },\n    {\n      \"column\": \"Series Count\",\n      \"properties\": {\n        \"dtype\": \"category\",\n        \"num_unique_values\": 5,\n        \"samples\": [\n          \"3\",\n          \"4+\"\n        ],\n        \"semantic_type\": \"\",\n        \"description\": \"\"\n      }\n    },\n    {\n      \"column\": \"episodes/day\",\n      \"properties\": {\n        \"dtype\": \"category\",\n        \"num_unique_values\": 5,\n        \"samples\": [\n          \"2\\u20133\",\n          \"More than 5\"\n        ],\n        \"semantic_type\": \"\",\n        \"description\": \"\"\n      }\n    },\n    {\n      \"column\": \"Series Watched\",\n      \"properties\": {\n        \"dtype\": \"category\",\n        \"num_unique_values\": 28,\n        \"samples\": [\n          \"\\u0627\\u0634\\u063a\\u0627\\u0644 \\u0634\\u0642\\u0647 \\u062c\\u062f\\u0627;\\u0627\\u062e\\u0648\\u0627\\u062a\\u064a\",\n          \"\\u0648\\u0644\\u0627\\u062f \\u0627\\u0644\\u0634\\u0645\\u0633;\\u0643\\u0627\\u0645\\u0644 \\u0627\\u0644\\u0639\\u062f\\u062f ++;\"\n        ],\n        \"semantic_type\": \"\",\n        \"description\": \"\"\n      }\n    },\n    {\n      \"column\": \"platforms\",\n      \"properties\": {\n        \"dtype\": \"category\",\n        \"num_unique_values\": 18,\n        \"samples\": [\n          \"Shahid;WatchIt\",\n          \"Other apps\"\n        ],\n        \"semantic_type\": \"\",\n        \"description\": \"\"\n      }\n    }\n  ]\n}"
            }
          },
          "metadata": {},
          "execution_count": 249
        }
      ]
    },
    {
      "cell_type": "code",
      "source": [
        "df.isnull().sum()"
      ],
      "metadata": {
        "colab": {
          "base_uri": "https://localhost:8080/"
        },
        "id": "omB_IlhlDZ6c",
        "outputId": "5dc7be28-d453-490e-f7ea-ad43e835c9b3"
      },
      "execution_count": null,
      "outputs": [
        {
          "output_type": "execute_result",
          "data": {
            "text/plain": [
              "Age Group          0\n",
              "Gender             0\n",
              "Series Count       0\n",
              "episodes/day       0\n",
              "Series Watched    19\n",
              "platforms          3\n",
              "dtype: int64"
            ],
            "text/html": [
              "<div>\n",
              "<style scoped>\n",
              "    .dataframe tbody tr th:only-of-type {\n",
              "        vertical-align: middle;\n",
              "    }\n",
              "\n",
              "    .dataframe tbody tr th {\n",
              "        vertical-align: top;\n",
              "    }\n",
              "\n",
              "    .dataframe thead th {\n",
              "        text-align: right;\n",
              "    }\n",
              "</style>\n",
              "<table border=\"1\" class=\"dataframe\">\n",
              "  <thead>\n",
              "    <tr style=\"text-align: right;\">\n",
              "      <th></th>\n",
              "      <th>0</th>\n",
              "    </tr>\n",
              "  </thead>\n",
              "  <tbody>\n",
              "    <tr>\n",
              "      <th>Age Group</th>\n",
              "      <td>0</td>\n",
              "    </tr>\n",
              "    <tr>\n",
              "      <th>Gender</th>\n",
              "      <td>0</td>\n",
              "    </tr>\n",
              "    <tr>\n",
              "      <th>Series Count</th>\n",
              "      <td>0</td>\n",
              "    </tr>\n",
              "    <tr>\n",
              "      <th>episodes/day</th>\n",
              "      <td>0</td>\n",
              "    </tr>\n",
              "    <tr>\n",
              "      <th>Series Watched</th>\n",
              "      <td>19</td>\n",
              "    </tr>\n",
              "    <tr>\n",
              "      <th>platforms</th>\n",
              "      <td>3</td>\n",
              "    </tr>\n",
              "  </tbody>\n",
              "</table>\n",
              "</div><br><label><b>dtype:</b> int64</label>"
            ]
          },
          "metadata": {},
          "execution_count": 250
        }
      ]
    },
    {
      "cell_type": "markdown",
      "source": [
        "3. Replacing all null with \"None\" since there are people who do not watch any series"
      ],
      "metadata": {
        "id": "wW1cNC5IPgby"
      }
    },
    {
      "cell_type": "code",
      "source": [
        "df['Series Watched'].fillna(0, inplace=True)\n",
        "df['platforms'].fillna('None', inplace=True)\n",
        "df.isnull().sum()"
      ],
      "metadata": {
        "colab": {
          "base_uri": "https://localhost:8080/"
        },
        "id": "tFsp0s9mQ19P",
        "outputId": "55fa4c63-38b0-43cd-dcf3-7db6bf2c23c4"
      },
      "execution_count": null,
      "outputs": [
        {
          "output_type": "stream",
          "name": "stderr",
          "text": [
            "<ipython-input-251-c0ef052b07c0>:1: FutureWarning: A value is trying to be set on a copy of a DataFrame or Series through chained assignment using an inplace method.\n",
            "The behavior will change in pandas 3.0. This inplace method will never work because the intermediate object on which we are setting values always behaves as a copy.\n",
            "\n",
            "For example, when doing 'df[col].method(value, inplace=True)', try using 'df.method({col: value}, inplace=True)' or df[col] = df[col].method(value) instead, to perform the operation inplace on the original object.\n",
            "\n",
            "\n",
            "  df['Series Watched'].fillna(0, inplace=True)\n",
            "<ipython-input-251-c0ef052b07c0>:2: FutureWarning: A value is trying to be set on a copy of a DataFrame or Series through chained assignment using an inplace method.\n",
            "The behavior will change in pandas 3.0. This inplace method will never work because the intermediate object on which we are setting values always behaves as a copy.\n",
            "\n",
            "For example, when doing 'df[col].method(value, inplace=True)', try using 'df.method({col: value}, inplace=True)' or df[col] = df[col].method(value) instead, to perform the operation inplace on the original object.\n",
            "\n",
            "\n",
            "  df['platforms'].fillna('None', inplace=True)\n"
          ]
        },
        {
          "output_type": "execute_result",
          "data": {
            "text/plain": [
              "Age Group         0\n",
              "Gender            0\n",
              "Series Count      0\n",
              "episodes/day      0\n",
              "Series Watched    0\n",
              "platforms         0\n",
              "dtype: int64"
            ],
            "text/html": [
              "<div>\n",
              "<style scoped>\n",
              "    .dataframe tbody tr th:only-of-type {\n",
              "        vertical-align: middle;\n",
              "    }\n",
              "\n",
              "    .dataframe tbody tr th {\n",
              "        vertical-align: top;\n",
              "    }\n",
              "\n",
              "    .dataframe thead th {\n",
              "        text-align: right;\n",
              "    }\n",
              "</style>\n",
              "<table border=\"1\" class=\"dataframe\">\n",
              "  <thead>\n",
              "    <tr style=\"text-align: right;\">\n",
              "      <th></th>\n",
              "      <th>0</th>\n",
              "    </tr>\n",
              "  </thead>\n",
              "  <tbody>\n",
              "    <tr>\n",
              "      <th>Age Group</th>\n",
              "      <td>0</td>\n",
              "    </tr>\n",
              "    <tr>\n",
              "      <th>Gender</th>\n",
              "      <td>0</td>\n",
              "    </tr>\n",
              "    <tr>\n",
              "      <th>Series Count</th>\n",
              "      <td>0</td>\n",
              "    </tr>\n",
              "    <tr>\n",
              "      <th>episodes/day</th>\n",
              "      <td>0</td>\n",
              "    </tr>\n",
              "    <tr>\n",
              "      <th>Series Watched</th>\n",
              "      <td>0</td>\n",
              "    </tr>\n",
              "    <tr>\n",
              "      <th>platforms</th>\n",
              "      <td>0</td>\n",
              "    </tr>\n",
              "  </tbody>\n",
              "</table>\n",
              "</div><br><label><b>dtype:</b> int64</label>"
            ]
          },
          "metadata": {},
          "execution_count": 251
        }
      ]
    },
    {
      "cell_type": "markdown",
      "source": [
        "4. Split several input data into a list of strings for easier access"
      ],
      "metadata": {
        "id": "Ml_wrrNDRMvO"
      }
    },
    {
      "cell_type": "code",
      "source": [
        "df['Series Watched'] = df['Series Watched'].str.split(', ')\n",
        "series = df['Series Watched'].explode()\n",
        "seriesFrequency = series.value_counts()\n",
        "print(seriesFrequency)"
      ],
      "metadata": {
        "colab": {
          "base_uri": "https://localhost:8080/"
        },
        "id": "YJGFk2nYWuSf",
        "outputId": "66802efe-0f28-450d-d371-9821abedcb0f"
      },
      "execution_count": null,
      "outputs": [
        {
          "output_type": "stream",
          "name": "stdout",
          "text": [
            "Series Watched\n",
            "اشغال شقه جدا;كامل العدد ++                                            10\n",
            "اشغال شقه جدا                                                           9\n",
            "كامل العدد ++                                                           6\n",
            "اشغال شقه جدا;ولاد الشمس                                                6\n",
            "اشغال شقه جدا;ولاد الشمس;كامل العدد ++                                  5\n",
            "ولاد الشمس                                                              2\n",
            "اشغال شقه جدا;اخواتي                                                    2\n",
            "ولاد الشمس;كامل العدد ++;                                               2\n",
            "اشغال شقه جدا;ولاد الشمس;كامل العدد ++;المداح                           2\n",
            "اشغال شقه جدا;النص;ولاد الشمس;كامل العدد ++;المداح                      2\n",
            "اشغال شقه جدا;العتاولة                                                  2\n",
            "ولاد الشمس;كامل العدد ++                                                1\n",
            "None;                                                                   1\n",
            "النص;كامل العدد ++                                                      1\n",
            "اشغال شقه جدا;النص;ولاد الشمس                                           1\n",
            "ولاد الشمس;المداح                                                       1\n",
            "اشغال شقه جدا;كامل العدد ++;80 bako                                     1\n",
            "الكابتن                                                                 1\n",
            "اشغال شقه جدا;النص                                                      1\n",
            "اشغال شقه جدا;كامل العدد ++;80باكو                                      1\n",
            "رامز                                                                    1\n",
            "المداح                                                                  1\n",
            "اثينا                                                                   1\n",
            "النص;سيد الناس                                                          1\n",
            "اشغال شقه جدا;ولاد الشمس;كامل العدد ++;المداح;80 bako - seed el nas     1\n",
            "ولاد الشمس;كامل العدد ++;المداح                                         1\n",
            "اشغال شقه جدا;النص;المداح                                               1\n",
            "اشغال شقه جدا;ولاد الشمس;العتاولة                                       1\n",
            "Name: count, dtype: int64\n"
          ]
        }
      ]
    },
    {
      "cell_type": "code",
      "source": [
        "df['Series Watched'].fillna(0, inplace=True)\n",
        "df.isnull().sum()"
      ],
      "metadata": {
        "colab": {
          "base_uri": "https://localhost:8080/"
        },
        "id": "pdltn7IKXart",
        "outputId": "c7c123f2-2824-4847-c82e-d7243a6d57b5"
      },
      "execution_count": null,
      "outputs": [
        {
          "output_type": "stream",
          "name": "stderr",
          "text": [
            "<ipython-input-253-e61ccf3ccf5c>:1: FutureWarning: A value is trying to be set on a copy of a DataFrame or Series through chained assignment using an inplace method.\n",
            "The behavior will change in pandas 3.0. This inplace method will never work because the intermediate object on which we are setting values always behaves as a copy.\n",
            "\n",
            "For example, when doing 'df[col].method(value, inplace=True)', try using 'df.method({col: value}, inplace=True)' or df[col] = df[col].method(value) instead, to perform the operation inplace on the original object.\n",
            "\n",
            "\n",
            "  df['Series Watched'].fillna(0, inplace=True)\n"
          ]
        },
        {
          "output_type": "execute_result",
          "data": {
            "text/plain": [
              "Age Group         0\n",
              "Gender            0\n",
              "Series Count      0\n",
              "episodes/day      0\n",
              "Series Watched    0\n",
              "platforms         0\n",
              "dtype: int64"
            ],
            "text/html": [
              "<div>\n",
              "<style scoped>\n",
              "    .dataframe tbody tr th:only-of-type {\n",
              "        vertical-align: middle;\n",
              "    }\n",
              "\n",
              "    .dataframe tbody tr th {\n",
              "        vertical-align: top;\n",
              "    }\n",
              "\n",
              "    .dataframe thead th {\n",
              "        text-align: right;\n",
              "    }\n",
              "</style>\n",
              "<table border=\"1\" class=\"dataframe\">\n",
              "  <thead>\n",
              "    <tr style=\"text-align: right;\">\n",
              "      <th></th>\n",
              "      <th>0</th>\n",
              "    </tr>\n",
              "  </thead>\n",
              "  <tbody>\n",
              "    <tr>\n",
              "      <th>Age Group</th>\n",
              "      <td>0</td>\n",
              "    </tr>\n",
              "    <tr>\n",
              "      <th>Gender</th>\n",
              "      <td>0</td>\n",
              "    </tr>\n",
              "    <tr>\n",
              "      <th>Series Count</th>\n",
              "      <td>0</td>\n",
              "    </tr>\n",
              "    <tr>\n",
              "      <th>episodes/day</th>\n",
              "      <td>0</td>\n",
              "    </tr>\n",
              "    <tr>\n",
              "      <th>Series Watched</th>\n",
              "      <td>0</td>\n",
              "    </tr>\n",
              "    <tr>\n",
              "      <th>platforms</th>\n",
              "      <td>0</td>\n",
              "    </tr>\n",
              "  </tbody>\n",
              "</table>\n",
              "</div><br><label><b>dtype:</b> int64</label>"
            ]
          },
          "metadata": {},
          "execution_count": 253
        }
      ]
    },
    {
      "cell_type": "code",
      "source": [
        "df['platforms'] = df['platforms'].str.split(', ')\n",
        "platform = df['platforms'].explode()\n",
        "platformFrequency = platform.value_counts()\n",
        "print(platformFrequency)"
      ],
      "metadata": {
        "colab": {
          "base_uri": "https://localhost:8080/"
        },
        "id": "bRHh4sEQRp9k",
        "outputId": "fc3c7099-0d1c-4c45-f685-8d547fdc8308"
      },
      "execution_count": null,
      "outputs": [
        {
          "output_type": "stream",
          "name": "stdout",
          "text": [
            "platforms\n",
            "Shahid;WatchIt               18\n",
            "Live TV                      16\n",
            "Shahid                       11\n",
            "Shahid;WatchIt;Yango Play     7\n",
            "none                          5\n",
            "WatchIt                       5\n",
            "Shahid;WatchIt;Live TV        4\n",
            "None                          3\n",
            "Shahid;Live TV                3\n",
            "Shahid;Yango Play             2\n",
            "WatchIt;Live TV               2\n",
            "Yango Play                    1\n",
            "Other apps                    1\n",
            "Google                        1\n",
            "Iptv                          1\n",
            "i don’t watch                 1\n",
            "IPTV                          1\n",
            "Live TV;iptv                  1\n",
            "i don't really watch any      1\n",
            "Name: count, dtype: int64\n"
          ]
        }
      ]
    },
    {
      "cell_type": "markdown",
      "source": [
        "## **Measures Of Central Tendencies**"
      ],
      "metadata": {
        "id": "Logf8CdOhZtZ"
      }
    },
    {
      "cell_type": "code",
      "source": [
        "print(df.columns)"
      ],
      "metadata": {
        "colab": {
          "base_uri": "https://localhost:8080/"
        },
        "id": "8UM2mke3G2hK",
        "outputId": "881db00a-f36c-4fe8-d843-42396f8eb5f7"
      },
      "execution_count": null,
      "outputs": [
        {
          "output_type": "stream",
          "name": "stdout",
          "text": [
            "Index(['Age Group', 'Gender', 'Series Count', 'episodes/day', 'Series Watched',\n",
            "       'platforms'],\n",
            "      dtype='object')\n"
          ]
        }
      ]
    },
    {
      "cell_type": "markdown",
      "source": [
        "1. Calculate the mean mode and median in the regular way to the appropriate data sets (quantitative data)"
      ],
      "metadata": {
        "id": "30w7dMtbMDy9"
      }
    },
    {
      "cell_type": "code",
      "source": [
        "def calculate_stats(series):\n",
        "    series = pd.to_numeric(series.astype(str).str.extract(r'(\\d+)')[0], errors='coerce')\n",
        "    return series.mean(), series.median(), series.mode()[0] if not series.mode().empty else None\n",
        "\n",
        "series_stats = calculate_stats(df['Series Count'])\n",
        "episodes_stats = calculate_stats(df['episodes/day'])\n",
        "\n",
        "print(f\"Series Count - Mean: {series_stats[0]:.2f}, Median: {series_stats[1]}, Mode: {series_stats[2]}\")\n",
        "print(f\"Episodes per Day - Mean: {episodes_stats[0]:.2f}, Median: {episodes_stats[1]}, Mode: {episodes_stats[2]}\")"
      ],
      "metadata": {
        "colab": {
          "base_uri": "https://localhost:8080/"
        },
        "id": "TrCLeMFfFx8-",
        "outputId": "3e0aaecd-5aad-4566-a0a2-964126170692"
      },
      "execution_count": null,
      "outputs": [
        {
          "output_type": "stream",
          "name": "stdout",
          "text": [
            "Series Count - Mean: 1.74, Median: 2.0, Mode: 2\n",
            "Episodes per Day - Mean: 1.43, Median: 1.0, Mode: 2\n"
          ]
        }
      ]
    },
    {
      "cell_type": "markdown",
      "source": [
        "2. create a dictionary to save the counts of categorical data sets, so I can use the counts in a any numerical calculations or graphs, use the above function to calculate the mode for each column"
      ],
      "metadata": {
        "id": "DJO59JUOkvrv"
      }
    },
    {
      "cell_type": "code",
      "source": [
        "counts_dict = {}\n",
        "for column in df.columns:\n",
        "    counts_dict[column] = df[column].value_counts()\n",
        "\n",
        "stats_data = []\n",
        "for column, counts in counts_dict.items():\n",
        "    mode = counts.idxmax()\n",
        "    stats_data.append({'Column': column, 'Mode': mode})\n",
        "\n",
        "stats_df = pd.DataFrame(stats_data)\n",
        "print(\"\\nStatistics for Counts:\")\n",
        "print(stats_df)"
      ],
      "metadata": {
        "colab": {
          "base_uri": "https://localhost:8080/"
        },
        "id": "roH0ICoVjNGb",
        "outputId": "81cebd84-bd43-483f-db2b-43c47d1b5044"
      },
      "execution_count": null,
      "outputs": [
        {
          "output_type": "stream",
          "name": "stdout",
          "text": [
            "\n",
            "Statistics for Counts:\n",
            "           Column              Mode\n",
            "0       Age Group             18-24\n",
            "1          Gender              Male\n",
            "2    Series Count                 2\n",
            "3    episodes/day               2–3\n",
            "4  Series Watched                 0\n",
            "5       platforms  [Shahid;WatchIt]\n"
          ]
        }
      ]
    },
    {
      "cell_type": "markdown",
      "source": [
        "## **Visual Representations**"
      ],
      "metadata": {
        "id": "TOwiCFjRPOmT"
      }
    },
    {
      "cell_type": "markdown",
      "source": [
        "I will create a bar chart that represet\n"
      ],
      "metadata": {
        "id": "B19SpsOTlZo3"
      }
    },
    {
      "cell_type": "code",
      "source": [
        "plt.figure(figsize=(6, 4))\n",
        "sns.countplot(x='Gender', data=df, palette='viridis')\n",
        "plt.title('Distribution of Gender')\n",
        "plt.xlabel('Gender')\n",
        "plt.ylabel('Count')\n",
        "plt.show()"
      ],
      "metadata": {
        "colab": {
          "base_uri": "https://localhost:8080/",
          "height": 520
        },
        "id": "3cqv-A9ImX-5",
        "outputId": "36fb15a2-8c60-4d3f-caa3-cbba57130b92"
      },
      "execution_count": null,
      "outputs": [
        {
          "output_type": "stream",
          "name": "stderr",
          "text": [
            "<ipython-input-229-5ca3ec16e97a>:2: FutureWarning: \n",
            "\n",
            "Passing `palette` without assigning `hue` is deprecated and will be removed in v0.14.0. Assign the `x` variable to `hue` and set `legend=False` for the same effect.\n",
            "\n",
            "  sns.countplot(x='Gender', data=df, palette='viridis')\n"
          ]
        },
        {
          "output_type": "display_data",
          "data": {
            "text/plain": [
              "<Figure size 600x400 with 1 Axes>"
            ],
            "image/png": "[encoded data removed]"
          },
          "metadata": {}
        }
      ]
    },
    {
      "cell_type": "code",
      "source": [
        "plt.figure(figsize=(8, 6))\n",
        "sns.countplot(x='Age Group', data=df, palette='magma', order=df['Age Group'].value_counts().index)\n",
        "plt.title('Distribution of Age Groups')\n",
        "plt.xlabel('Age Group')\n",
        "plt.ylabel('Count')\n",
        "plt.show()"
      ],
      "metadata": {
        "colab": {
          "base_uri": "https://localhost:8080/",
          "height": 674
        },
        "id": "NC-kKvYwmgvT",
        "outputId": "867e8bcb-2ced-4b0c-8c1a-819e29dbf785"
      },
      "execution_count": null,
      "outputs": [
        {
          "output_type": "stream",
          "name": "stderr",
          "text": [
            "<ipython-input-230-802c2cf56351>:2: FutureWarning: \n",
            "\n",
            "Passing `palette` without assigning `hue` is deprecated and will be removed in v0.14.0. Assign the `x` variable to `hue` and set `legend=False` for the same effect.\n",
            "\n",
            "  sns.countplot(x='Age Group', data=df, palette='magma', order=df['Age Group'].value_counts().index)\n"
          ]
        },
        {
          "output_type": "display_data",
          "data": {
            "text/plain": [
              "<Figure size 800x600 with 1 Axes>"
            ],
            "image/png": "[encoded data removed]"
          },
          "metadata": {}
        }
      ]
    },
    {
      "cell_type": "markdown",
      "source": [
        "This step is crucial just for the graph to be more representative"
      ],
      "metadata": {
        "id": "pgqBMDxIMgFp"
      }
    },
    {
      "cell_type": "code",
      "source": [
        "def replace_in_list(lst):\n",
        "    return [\n",
        "        s.replace('كامل العدد', 'Kamel El Adad')\n",
        "        .replace('اشغال شقه جدا', \"Ashghal Sha'a Gedan\")\n",
        "        .replace('ولاد الشمس', 'Welad El Shams')\n",
        "        for s in lst\n",
        "    ]\n",
        "df['Series Watched'] = df['Series Watched'].apply(lambda x: replace_in_list(x) if isinstance(x, list) else x)\n",
        "print(df['Series Watched'].explode().unique())"
      ],
      "metadata": {
        "colab": {
          "base_uri": "https://localhost:8080/"
        },
        "id": "3cjHaQKE0kbx",
        "outputId": "8ad89864-a63a-410f-dbb2-69c6f3fa1352"
      },
      "execution_count": null,
      "outputs": [
        {
          "output_type": "stream",
          "name": "stdout",
          "text": [
            "[\"Ashghal Sha'a Gedan;Kamel El Adad ++\" 'Welad El Shams;Kamel El Adad ++'\n",
            " \"Ashghal Sha'a Gedan;النص;Welad El Shams\" 'Welad El Shams;المداح'\n",
            " 'النص;Kamel El Adad ++' 0 'Kamel El Adad ++'\n",
            " \"Ashghal Sha'a Gedan;Welad El Shams;Kamel El Adad ++\"\n",
            " \"Ashghal Sha'a Gedan;Welad El Shams\" \"Ashghal Sha'a Gedan\"\n",
            " \"Ashghal Sha'a Gedan;اخواتي\" 'Welad El Shams' 'None;'\n",
            " \"Ashghal Sha'a Gedan;Kamel El Adad ++;80 bako\" 'الكابتن '\n",
            " \"Ashghal Sha'a Gedan;النص\" \"Ashghal Sha'a Gedan;Kamel El Adad ++;80باكو\"\n",
            " 'النص;سيد الناس' 'اثينا' 'المداح' 'رامز '\n",
            " 'Welad El Shams;Kamel El Adad ++;المداح'\n",
            " \"Ashghal Sha'a Gedan;Welad El Shams;Kamel El Adad ++;المداح\"\n",
            " \"Ashghal Sha'a Gedan;النص;Welad El Shams;Kamel El Adad ++;المداح\"\n",
            " \"Ashghal Sha'a Gedan;Welad El Shams;Kamel El Adad ++;المداح;80 bako - seed el nas\"\n",
            " \"Ashghal Sha'a Gedan;النص;المداح\" 'Welad El Shams;Kamel El Adad ++;'\n",
            " \"Ashghal Sha'a Gedan;Welad El Shams;العتاولة \"\n",
            " \"Ashghal Sha'a Gedan;العتاولة \"]\n"
          ]
        }
      ]
    },
    {
      "cell_type": "code",
      "source": [
        "exploded_series = df['Series Watched'].explode()\n",
        "series_counts = exploded_series.value_counts()\n",
        "top_5_series = series_counts.nlargest(5)\n",
        "top_5_df = exploded_series[exploded_series.isin(top_5_series.index)].to_frame()\n",
        "plt.figure(figsize=(10, 6))\n",
        "base_color = sns.color_palette()[0]\n",
        "sns.countplot(data=top_5_df, y='Series Watched', color=base_color, order=top_5_series.index)\n",
        "plt.title('Top 5 Most-Watched Ramadan Series', fontsize=16)\n",
        "plt.xlabel('Count', fontsize=14)\n",
        "plt.ylabel('Series', fontsize=14)\n",
        "plt.tight_layout()\n",
        "plt.show()"
      ],
      "metadata": {
        "colab": {
          "base_uri": "https://localhost:8080/",
          "height": 607
        },
        "id": "RlYGV-tWAB7d",
        "outputId": "058a579e-2000-421c-ecde-53570f5ce5f7"
      },
      "execution_count": null,
      "outputs": [
        {
          "output_type": "display_data",
          "data": {
            "text/plain": [
              "<Figure size 1000x600 with 1 Axes>"
            ],
            "image/png": "[encoded data removed]"
          },
          "metadata": {}
        }
      ]
    },
    {
      "cell_type": "code",
      "source": [
        "plt.figure(figsize=(8, 8))\n",
        "gender_counts = df['Gender'].value_counts()\n",
        "plt.pie(gender_counts, labels=gender_counts.index, autopct='%1.1f%%', startangle=90, colors=sns.color_palette('pastel'))\n",
        "plt.title('Gender Distribution', fontsize=16  )\n",
        "plt.show()"
      ],
      "metadata": {
        "colab": {
          "base_uri": "https://localhost:8080/",
          "height": 677
        },
        "id": "DE8zQPOetLP0",
        "outputId": "88d4e5b2-7a1c-4d4a-ad48-9c124cb5abd4"
      },
      "execution_count": null,
      "outputs": [
        {
          "output_type": "display_data",
          "data": {
            "text/plain": [
              "<Figure size 800x800 with 1 Axes>"
            ],
            "image/png": "[encoded data removed]"
          },
          "metadata": {}
        }
      ]
    },
    {
      "cell_type": "code",
      "source": [
        "plt.figure(figsize=(8, 6))\n",
        "sns.histplot(df['episodes/day'], bins=5, kde=False, color='skyblue')\n",
        "plt.title('Distribution of Episodes Watched Per Day', fontsize=16)\n",
        "plt.xlabel('Episodes/Day', fontsize=14)\n",
        "plt.ylabel('Frequency', fontsize=14)\n",
        "plt.show()"
      ],
      "metadata": {
        "colab": {
          "base_uri": "https://localhost:8080/",
          "height": 571
        },
        "id": "dXek_Hg_tXGD",
        "outputId": "3ee4063c-301b-4b56-8675-7ca6322da604"
      },
      "execution_count": null,
      "outputs": [
        {
          "output_type": "display_data",
          "data": {
            "text/plain": [
              "<Figure size 800x600 with 1 Axes>"
            ],
            "image/png": "[encoded data removed]"
          },
          "metadata": {}
        }
      ]
    },
    {
      "cell_type": "code",
      "source": [
        "exploded_platforms = df['platforms'].explode()\n",
        "platform_counts = exploded_platforms.value_counts()\n",
        "top_5_platforms = platform_counts.nlargest(5)\n",
        "plt.figure(figsize=(8, 8))\n",
        "plt.pie(top_5_platforms, labels=top_5_platforms.index, autopct='%1.1f%%', startangle=90, colors=sns.color_palette('pastel'))\n",
        "plt.title('Top 5 Platform Preferences', fontsize=16)\n",
        "plt.show()"
      ],
      "metadata": {
        "colab": {
          "base_uri": "https://localhost:8080/",
          "height": 677
        },
        "id": "nbSgQnISwuX5",
        "outputId": "7fd09190-84b7-44e6-f8f4-5d6d459b4f5b"
      },
      "execution_count": null,
      "outputs": [
        {
          "output_type": "display_data",
          "data": {
            "text/plain": [
              "<Figure size 800x800 with 1 Axes>"
            ],
            "image/png": "[encoded data removed]"
          },
          "metadata": {}
        }
      ]
    },
    {
      "cell_type": "code",
      "source": [
        "df['Age Group'] = pd.Categorical(df['Age Group'], categories=['less than 18', '18-24', '24-30', '30+'], ordered=True)\n",
        "hello = df['Series Count'].replace('4+', '4').astype(int)\n",
        "\n",
        "plt.figure(figsize=(10, 6))\n",
        "sns.barplot(x='Age Group', y= hello, data=df, palette='coolwarm', ci=None)\n",
        "plt.title('Average Series Count by Age Group', fontsize=16)\n",
        "plt.xlabel('Age Group', fontsize=14)\n",
        "plt.ylabel('Average Series Count', fontsize=14)\n",
        "plt.show()"
      ],
      "metadata": {
        "colab": {
          "base_uri": "https://localhost:8080/",
          "height": 771
        },
        "id": "jRIrOpukFmSS",
        "outputId": "55df12fe-4400-4b10-efb0-3ef0932b44de"
      },
      "execution_count": null,
      "outputs": [
        {
          "output_type": "stream",
          "name": "stderr",
          "text": [
            "<ipython-input-259-68a8f404dd0b>:5: FutureWarning: \n",
            "\n",
            "The `ci` parameter is deprecated. Use `errorbar=None` for the same effect.\n",
            "\n",
            "  sns.barplot(x='Age Group', y= hello, data=df, palette='coolwarm', ci=None)\n",
            "<ipython-input-259-68a8f404dd0b>:5: FutureWarning: \n",
            "\n",
            "Passing `palette` without assigning `hue` is deprecated and will be removed in v0.14.0. Assign the `x` variable to `hue` and set `legend=False` for the same effect.\n",
            "\n",
            "  sns.barplot(x='Age Group', y= hello, data=df, palette='coolwarm', ci=None)\n"
          ]
        },
        {
          "output_type": "display_data",
          "data": {
            "text/plain": [
              "<Figure size 1000x600 with 1 Axes>"
            ],
            "image/png": "[encoded data removed]"
          },
          "metadata": {}
        }
      ]
    },
    {
      "cell_type": "code",
      "source": [],
      "metadata": {
        "id": "1C4d53O-QoBZ"
      },
      "execution_count": null,
      "outputs": []
    },
    {
      "cell_type": "markdown",
      "source": [
        "# **Confidence Interval**"
      ],
      "metadata": {
        "id": "O7grt9bVPd2g"
      }
    },
    {
      "cell_type": "code",
      "source": [
        "exploded_series = df['Series Watched'].explode()\n",
        "\n",
        "series_counts = exploded_series.value_counts()\n",
        "top_5_series = series_counts.nlargest(5)\n",
        "\n",
        "total_respondents = len(df)\n",
        "\n",
        "def calculate_confidence_interval(counts, total_respondents):\n",
        "    \"\"\"Calculate 95% confidence interval for proportions.\"\"\"\n",
        "    proportion = counts / total_respondents\n",
        "    std_error = np.sqrt((proportion * (1 - proportion)) / total_respondents)\n",
        "\n",
        "    lower, upper = stats.norm.interval(0.95, loc=proportion, scale=std_error)\n",
        "\n",
        "    return lower * total_respondents, upper * total_respondents\n",
        "\n",
        "results = {\n",
        "    series: {\n",
        "        'Count': count,\n",
        "        '95% CI': calculate_confidence_interval(count, total_respondents)\n",
        "    }\n",
        "    for series, count in top_5_series.items()\n",
        "}\n",
        "\n",
        "for series, values in results.items():\n",
        "    print(f\"Series: {series}\")\n",
        "    print(f\"Count: {values['Count']}\")\n",
        "    print(f\"95% Confidence Interval (approximate count range): {values['95% CI']}\")\n",
        "    print(\"-\" * 30)\n"
      ],
      "metadata": {
        "colab": {
          "base_uri": "https://localhost:8080/"
        },
        "id": "C3zUSnBCOVAk",
        "outputId": "955b66e8-f8fc-4751-ebc2-92ef9039d4b9"
      },
      "execution_count": null,
      "outputs": [
        {
          "output_type": "stream",
          "name": "stdout",
          "text": [
            "Series: 0\n",
            "Count: 19\n",
            "95% Confidence Interval (approximate count range): (np.float64(11.484776051591735), np.float64(26.515223948408266))\n",
            "------------------------------\n",
            "Series: اشغال شقه جدا;كامل العدد ++\n",
            "Count: 10\n",
            "95% Confidence Interval (approximate count range): (np.float64(4.182661867811863), np.float64(15.817338132188137))\n",
            "------------------------------\n",
            "Series: اشغال شقه جدا\n",
            "Count: 9\n",
            "95% Confidence Interval (approximate count range): (np.float64(3.4440243409968994), np.float64(14.555975659003101))\n",
            "------------------------------\n",
            "Series: كامل العدد ++\n",
            "Count: 6\n",
            "95% Confidence Interval (approximate count range): (np.float64(1.3737257507167215), np.float64(10.626274249283277))\n",
            "------------------------------\n",
            "Series: اشغال شقه جدا;ولاد الشمس\n",
            "Count: 6\n",
            "95% Confidence Interval (approximate count range): (np.float64(1.3737257507167215), np.float64(10.626274249283277))\n",
            "------------------------------\n"
          ]
        }
      ]
    }
  ]
}